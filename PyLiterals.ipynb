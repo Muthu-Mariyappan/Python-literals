{
 "cells": [
  {
   "cell_type": "code",
   "execution_count": 2,
   "metadata": {},
   "outputs": [
    {
     "name": "stdout",
     "output_type": "stream",
     "text": [
      "Task 1: \n",
      "[]\n",
      "['Sunday', 'Monday', 'Tuesday', 'Wednesday', 'Thursday', 'Friday', 'Saturday']\n"
     ]
    }
   ],
   "source": [
    "\n",
    "\n",
    "'''\n",
    "Task 1: Create Python list\n",
    "--------------------------\n",
    "'''\n",
    "print('Task 1: ')\n",
    "emptyList = [] #Creates Empty python List\n",
    "dayList = [\"Sunday\",\"Monday\",\"Tuesday\",\"Wednesday\",\"Thursday\",\"Friday\",\"Saturday\"] #Creates and initializes list\n",
    "print(emptyList)\n",
    "print(dayList)\n",
    "\n",
    "\n"
   ]
  },
  {
   "cell_type": "code",
   "execution_count": 4,
   "metadata": {},
   "outputs": [
    {
     "name": "stdout",
     "output_type": "stream",
     "text": [
      "Task 2: \n",
      "[1, 2, 3, 4, 5, 6, 7, 8]\n",
      "[1, 2, 3, 4, 5, 6, 7, 8, 9]\n",
      "[0, 2, 3, 4, 5, 6, 7, 8, 9]\n",
      "[2, 3, 4, 5, 6, 7, 8, 9]\n"
     ]
    }
   ],
   "source": [
    "'''\n",
    "Task 2: List Manipulation\n",
    "---------------------------\n",
    "'''\n",
    "print('Task 2: ')\n",
    "numList = [1,2,3,4,5,6,7,8]\n",
    "print(numList)\n",
    "numList.append(9) # Add element at end of list\n",
    "print(numList)\n",
    "numList[0] = 0 # Replace list element\n",
    "print(numList)\n",
    "del numList[0] # Delete a list element\n",
    "print(numList)"
   ]
  },
  {
   "cell_type": "code",
   "execution_count": 9,
   "metadata": {},
   "outputs": [
    {
     "name": "stdout",
     "output_type": "stream",
     "text": [
      "Task 3: \n",
      "1 2 3 4 5 6 7 8  \n",
      "1 2 3 4 5 6 7 8 "
     ]
    }
   ],
   "source": [
    "'''\n",
    "Task 3: List traversal\n",
    "---------------------------\n",
    "'''\n",
    "print('Task 3: ')\n",
    "numList = [1,2,3,4,5,6,7,8]\n",
    "for number in numList:\n",
    "    print(number,end = \" \")\n",
    "print(\" \")\n",
    "for i in range(len(numList)):\n",
    "    print(numList[i], end = \" \")"
   ]
  },
  {
   "cell_type": "code",
   "execution_count": 12,
   "metadata": {},
   "outputs": [
    {
     "name": "stdout",
     "output_type": "stream",
     "text": [
      "Task 4: \n",
      "[8, 7, 6, 5, 4, 3, 2, 1]\n",
      "[1, 2, 3, 4, 5, 6, 7, 8]\n"
     ]
    }
   ],
   "source": [
    "'''\n",
    "Task 4: Reverse and sort the list\n",
    "---------------------------------\n",
    "'''\n",
    "print('Task 4: ')\n",
    "numList = [1,2,3,4,5,6,7,8]\n",
    "revList = numList[:]\n",
    "revList.reverse()\n",
    "print(revList)\n",
    "sortedList = revList[:]\n",
    "sortedList.sort()\n",
    "print(sortedList)"
   ]
  },
  {
   "cell_type": "code",
   "execution_count": 19,
   "metadata": {},
   "outputs": [
    {
     "name": "stdout",
     "output_type": "stream",
     "text": [
      "Task 5: \n",
      "(1, 2)\n",
      "1 2\n"
     ]
    }
   ],
   "source": [
    "'''\n",
    "Task 5: Create Tuple\n",
    "--------------------\n",
    "'''\n",
    "print('Task 5: ')\n",
    "\n",
    "pair = (1,2)\n",
    "print(pair)\n",
    "print(pair[0],pair[1])\n"
   ]
  },
  {
   "cell_type": "code",
   "execution_count": 20,
   "metadata": {},
   "outputs": [
    {
     "name": "stdout",
     "output_type": "stream",
     "text": [
      "Task 6: \n"
     ]
    },
    {
     "ename": "TypeError",
     "evalue": "'tuple' object does not support item assignment",
     "output_type": "error",
     "traceback": [
      "\u001b[0;31m---------------------------------------------------------------------------\u001b[0m",
      "\u001b[0;31mTypeError\u001b[0m                                 Traceback (most recent call last)",
      "\u001b[0;32m<ipython-input-20-1d5b79f70727>\u001b[0m in \u001b[0;36m<module>\u001b[0;34m()\u001b[0m\n\u001b[1;32m      6\u001b[0m \u001b[0;34m\u001b[0m\u001b[0m\n\u001b[1;32m      7\u001b[0m \u001b[0mpair\u001b[0m \u001b[0;34m=\u001b[0m \u001b[0;34m(\u001b[0m\u001b[0;36m1\u001b[0m\u001b[0;34m,\u001b[0m\u001b[0;36m2\u001b[0m\u001b[0;34m,\u001b[0m\u001b[0;36m3\u001b[0m\u001b[0;34m,\u001b[0m\u001b[0;36m4\u001b[0m\u001b[0;34m)\u001b[0m\u001b[0;34m\u001b[0m\u001b[0m\n\u001b[0;32m----> 8\u001b[0;31m \u001b[0mpair\u001b[0m\u001b[0;34m[\u001b[0m\u001b[0;36m1\u001b[0m\u001b[0;34m]\u001b[0m \u001b[0;34m=\u001b[0m \u001b[0;36m5\u001b[0m \u001b[0;31m# Throws error\u001b[0m\u001b[0;34m\u001b[0m\u001b[0m\n\u001b[0m\u001b[1;32m      9\u001b[0m \u001b[0;32mdel\u001b[0m \u001b[0mpair\u001b[0m\u001b[0;34m[\u001b[0m\u001b[0;36m2\u001b[0m\u001b[0;34m]\u001b[0m\u001b[0;34m\u001b[0m\u001b[0m\n",
      "\u001b[0;31mTypeError\u001b[0m: 'tuple' object does not support item assignment"
     ]
    }
   ],
   "source": [
    "'''\n",
    "Task 6: Manipulate Tuple (Tuple is immutable and cannot be modified)\n",
    "------------------------\n",
    "'''\n",
    "print('Task 6: ')\n",
    "\n",
    "pair = (1,2,3,4)\n",
    "pair[1] = 5 # Throws error\n",
    "del pair[2] # Throws errror"
   ]
  },
  {
   "cell_type": "code",
   "execution_count": null,
   "metadata": {},
   "outputs": [],
   "source": []
  },
  {
   "cell_type": "code",
   "execution_count": 26,
   "metadata": {},
   "outputs": [
    {
     "name": "stdout",
     "output_type": "stream",
     "text": [
      "A B C D E F G H True\n"
     ]
    }
   ],
   "source": [
    "'''\n",
    "Task 7: Traverse Tuple (Tuple is immutable and cannot be modified)\n",
    "------------------------\n",
    "'''\n",
    "print('Task 7: ')\n",
    "tup = ('A','B','C','D','E','F','G','H')\n",
    "for ch in tup:\n",
    "    print(ch, end=\" \")\n",
    "if 'C' in tup:\n",
    "    print(True)\n"
   ]
  },
  {
   "cell_type": "code",
   "execution_count": 32,
   "metadata": {},
   "outputs": [
    {
     "name": "stdout",
     "output_type": "stream",
     "text": [
      "Task 8: \n",
      "Empty Bag : set()\n",
      "Money bag : {0, 70, 40, 10, 80, 50, 20, 90, 60, 30}\n"
     ]
    }
   ],
   "source": [
    "'''\n",
    "Task 8: Set creation\n",
    "--------------------\n",
    "'''\n",
    "print('Task 8: ')\n",
    "\n",
    "emptyBag = set()\n",
    "print(\"Empty Bag : \"+str(emptyBag))\n",
    "moneyBag = set()\n",
    "for i in range(0,100,10):\n",
    "    moneyBag.add(i)\n",
    "print(\"Money bag : \"+str(moneyBag))"
   ]
  },
  {
   "cell_type": "code",
   "execution_count": 34,
   "metadata": {},
   "outputs": [
    {
     "name": "stdout",
     "output_type": "stream",
     "text": [
      "Task 9: \n",
      "{1, 2, 3, 4, 5, 6}\n",
      "{1, 2, 3, 4, 5, 6, 33, 11, 44, 22}\n"
     ]
    }
   ],
   "source": [
    "'''\n",
    "Task 9: Set Insertion\n",
    "------------------------\n",
    "'''\n",
    "print('Task 9: ')\n",
    "\n",
    "bag = {1,2,3,4,5}\n",
    "bag.add(6)\n",
    "print(bag)\n",
    "bag.update([11,22,33,44])\n",
    "print(bag)"
   ]
  },
  {
   "cell_type": "code",
   "execution_count": 35,
   "metadata": {},
   "outputs": [
    {
     "name": "stdout",
     "output_type": "stream",
     "text": [
      "Task 10: \n",
      "{2, 3, 4, 5}\n",
      "set()\n"
     ]
    }
   ],
   "source": [
    "'''\n",
    "Task 10: Set Deletion\n",
    "------------------------\n",
    "'''\n",
    "print('Task 10: ')\n",
    "\n",
    "bag = {1,2,3,4,5}\n",
    "bag.remove(1)\n",
    "print(bag)\n",
    "bag.clear()\n",
    "print(bag)"
   ]
  },
  {
   "cell_type": "code",
   "execution_count": 39,
   "metadata": {},
   "outputs": [
    {
     "name": "stdout",
     "output_type": "stream",
     "text": [
      "Task 11: \n",
      "{1, 2, 3, 4, 5}\n",
      "{4, 5, 6, 7, 8}\n",
      "SET difference\n",
      "{1, 2, 3}\n"
     ]
    }
   ],
   "source": [
    "'''\n",
    "Task 11: Set Difference\n",
    "------------------------\n",
    "'''\n",
    "print('Task 11: ')\n",
    "\n",
    "bag1 = {1,2,3,4,5}\n",
    "bag2 = {4,5,6,7,8}\n",
    "bag3 = bag1.difference(bag2)\n",
    "print(bag1)\n",
    "print(bag2)\n",
    "print(\"SET difference\")\n",
    "print(bag3)"
   ]
  },
  {
   "cell_type": "code",
   "execution_count": 40,
   "metadata": {},
   "outputs": [
    {
     "name": "stdout",
     "output_type": "stream",
     "text": [
      "Task 11: \n",
      "{1, 2, 3, 4, 5}\n",
      "{4, 5, 6, 7, 8}\n",
      "SET Intersection\n",
      "{4, 5}\n"
     ]
    }
   ],
   "source": [
    "'''\n",
    "Task 12: Set Intersection\n",
    "------------------------\n",
    "'''\n",
    "print('Task 11: ')\n",
    "bag1 = {1,2,3,4,5}\n",
    "bag2 = {4,5,6,7,8}\n",
    "bag3 = bag1.intersection(bag2)\n",
    "print(bag1)\n",
    "print(bag2)\n",
    "print(\"SET Intersection\")\n",
    "print(bag3)"
   ]
  },
  {
   "cell_type": "code",
   "execution_count": 41,
   "metadata": {},
   "outputs": [
    {
     "name": "stdout",
     "output_type": "stream",
     "text": [
      "Task 11: \n",
      "{1, 2, 3, 4, 5}\n",
      "{4, 5, 6, 7, 8}\n",
      "SET Union\n",
      "{1, 2, 3, 4, 5, 6, 7, 8}\n"
     ]
    }
   ],
   "source": [
    "'''\n",
    "Task 12: Set Union\n",
    "------------------------\n",
    "'''\n",
    "print('Task 12: ')\n",
    "bag1 = {1,2,3,4,5}\n",
    "bag2 = {4,5,6,7,8}\n",
    "bag3 = bag1.union(bag2)\n",
    "print(bag1)\n",
    "print(bag2)\n",
    "print(\"SET Union\")\n",
    "print(bag3)"
   ]
  },
  {
   "cell_type": "code",
   "execution_count": 45,
   "metadata": {},
   "outputs": [
    {
     "name": "stdout",
     "output_type": "stream",
     "text": [
      "Task 13: \n",
      "{1, 2, 3, 4, 5}\n",
      "{4, 5, 6, 7, 8}\n",
      "SET Symmetric Difference\n",
      "{1, 2, 3, 6, 7, 8}\n"
     ]
    }
   ],
   "source": [
    "'''\n",
    "Task 13: Set Symmetric DIfference\n",
    "--------------------------------\n",
    "'''\n",
    "print('Task 13: ')\n",
    "bag1 = {1,2,3,4,5}\n",
    "bag2 = {4,5,6,7,8}\n",
    "bag3 = bag1.symmetric_difference(bag2)\n",
    "print(bag1)\n",
    "print(bag2)\n",
    "print(\"SET Symmetric Difference\")\n",
    "print(bag3)"
   ]
  },
  {
   "cell_type": "code",
   "execution_count": 52,
   "metadata": {},
   "outputs": [
    {
     "name": "stdout",
     "output_type": "stream",
     "text": [
      "Task 14: \n",
      "True\n",
      "True\n",
      "True\n"
     ]
    }
   ],
   "source": [
    "'''\n",
    "Task 14: Other set operations\n",
    "------------------------------\n",
    "'''\n",
    "print('Task 14: ')\n",
    "bag = {1,2,3,4,5}\n",
    "bigBag = {1,2,3,4,5,6,7,8,9}\n",
    "smallBag = {1,2,3}\n",
    "print(bag.issubset(bigBag))\n",
    "print(bigBag.issuperset(smallBag))\n",
    "print(1 in bag)\n"
   ]
  },
  {
   "cell_type": "code",
   "execution_count": 53,
   "metadata": {},
   "outputs": [
    {
     "name": "stdout",
     "output_type": "stream",
     "text": [
      "Task 15: \n",
      "{}\n",
      "{'Lion': 240, 'Elephant': 500, 'Tiger': 180, 'Giraffe': 170}\n"
     ]
    }
   ],
   "source": [
    "'''\n",
    "Task 15: Dictionary\n",
    "---------------------\n",
    "'''\n",
    "print('Task 15: ')\n",
    "\n",
    "emptyDict = dict()\n",
    "print(emptyDict)\n",
    "animalDict = {\"Lion\":240,\"Elephant\":500,\"Tiger\":180,\"Giraffe\":170}\n",
    "print(animalDict)"
   ]
  },
  {
   "cell_type": "code",
   "execution_count": 57,
   "metadata": {},
   "outputs": [
    {
     "name": "stdout",
     "output_type": "stream",
     "text": [
      "Task 16: \n",
      "{'Lion': 240, 'Elephant': 500, 'Tiger': 180, 'Giraffe': 170}\n",
      "{'Lion': 240, 'Elephant': 500, 'Tiger': 180, 'Giraffe': 170, 'T-Rex': 800}\n",
      "{'Elephant': 500, 'Tiger': 180, 'Giraffe': 170, 'T-Rex': 800}\n",
      "{}\n"
     ]
    }
   ],
   "source": [
    "'''\n",
    "Task 16: Dict Manipulation\n",
    "--------------------------\n",
    "'''\n",
    "print('Task 16: ')\n",
    "\n",
    "animalDict = {\"Lion\":240,\"Elephant\":500,\"Tiger\":180,\"Giraffe\":170}\n",
    "print(animalDict)\n",
    "animalDict[\"T-Rex\"] = 800\n",
    "print(animalDict)\n",
    "del animalDict[\"Lion\"]\n",
    "print(animalDict)\n",
    "animalDict.clear()\n",
    "print(animalDict)"
   ]
  },
  {
   "cell_type": "code",
   "execution_count": 62,
   "metadata": {},
   "outputs": [
    {
     "name": "stdout",
     "output_type": "stream",
     "text": [
      "Task 17: \n",
      "Keys: \n",
      "Lion Elephant Tiger Giraffe \n",
      "\n",
      "Values: \n",
      "240 500 180 170 \n",
      "\n",
      "Key value pairs: \n",
      "('Lion', 240) ('Elephant', 500) ('Tiger', 180) ('Giraffe', 170) "
     ]
    }
   ],
   "source": [
    "'''\n",
    "Task 17: Dict Traversal\n",
    "--------------------------\n",
    "'''\n",
    "print('Task 17: ')\n",
    "\n",
    "animalDict = {\"Lion\":240,\"Elephant\":500,\"Tiger\":180,\"Giraffe\":170}\n",
    "\n",
    "print(\"Keys: \")\n",
    "for key in animalDict:\n",
    "    print(key,end=\" \")\n",
    "print(\"\\n\\nValues: \")\n",
    "for value in animalDict.values():\n",
    "    print(value,end=\" \")\n",
    "print(\"\\n\\nKey value pairs: \")\n",
    "for x,y in animalDict.items():\n",
    "    print((x,y),end=\" \")"
   ]
  },
  {
   "cell_type": "code",
   "execution_count": 64,
   "metadata": {},
   "outputs": [
    {
     "name": "stdout",
     "output_type": "stream",
     "text": [
      "Task 18: \n",
      "15\n",
      "100\n"
     ]
    }
   ],
   "source": [
    "'''\n",
    "Task 18: Lambda Expressions\n",
    "---------------------------\n",
    "'''\n",
    "print('Task 18: ')\n",
    "\n",
    "addTen = lambda a : a + 10\n",
    "print(addTen(5))\n",
    "mulTen = lambda a : a*10\n",
    "print(mulTen(10))"
   ]
  },
  {
   "cell_type": "code",
   "execution_count": null,
   "metadata": {},
   "outputs": [],
   "source": []
  }
 ],
 "metadata": {
  "kernelspec": {
   "display_name": "Python 3",
   "language": "python",
   "name": "python3"
  },
  "language_info": {
   "codemirror_mode": {
    "name": "ipython",
    "version": 3
   },
   "file_extension": ".py",
   "mimetype": "text/x-python",
   "name": "python",
   "nbconvert_exporter": "python",
   "pygments_lexer": "ipython3",
   "version": "3.6.6"
  }
 },
 "nbformat": 4,
 "nbformat_minor": 2
}
