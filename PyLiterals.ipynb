{
 "cells": [
  {
   "cell_type": "code",
   "execution_count": 1,
   "metadata": {},
   "outputs": [
    {
     "name": "stdout",
     "output_type": "stream",
     "text": [
      "Task 1: \n",
      "[]\n",
      "['Sunday', 'Monday', 'Tuesday', 'Wednesday', 'Thursday', 'Friday', 'Saturday']\n"
     ]
    }
   ],
   "source": [
    "\n",
    "\n",
    "'''\n",
    "Task 1: Create Python list\n",
    "--------------------------\n",
    "'''\n",
    "print('Task 1: ')\n",
    "emptyList = [] #Creates Empty python List\n",
    "dayList = [\"Sunday\",\"Monday\",\"Tuesday\",\"Wednesday\",\"Thursday\",\"Friday\",\"Saturday\"] #Creates and initializes list\n",
    "print(emptyList)\n",
    "print(dayList)\n",
    "\n",
    "\n"
   ]
  },
  {
   "cell_type": "code",
   "execution_count": 2,
   "metadata": {},
   "outputs": [
    {
     "name": "stdout",
     "output_type": "stream",
     "text": [
      "Task 2: \n",
      "[1, 2, 3, 4, 5, 6, 7, 8]\n",
      "[1, 2, 3, 4, 5, 6, 7, 8, 9]\n",
      "[0, 2, 3, 4, 5, 6, 7, 8, 9]\n",
      "[2, 3, 4, 5, 6, 7, 8, 9]\n"
     ]
    }
   ],
   "source": [
    "'''\n",
    "Task 2: List Manipulation\n",
    "---------------------------\n",
    "'''\n",
    "print('Task 2: ')\n",
    "numList = [1,2,3,4,5,6,7,8]\n",
    "print(numList)\n",
    "numList.append(9) # Add element at end of list\n",
    "print(numList)\n",
    "numList[0] = 0 # Replace list element\n",
    "print(numList)\n",
    "del numList[0] # Delete a list element\n",
    "print(numList)"
   ]
  },
  {
   "cell_type": "code",
   "execution_count": 3,
   "metadata": {},
   "outputs": [
    {
     "name": "stdout",
     "output_type": "stream",
     "text": [
      "Task 3: \n",
      "1 2 3 4 5 6 7 8  \n",
      "1 2 3 4 5 6 7 8 "
     ]
    }
   ],
   "source": [
    "'''\n",
    "Task 3: List traversal\n",
    "---------------------------\n",
    "'''\n",
    "print('Task 3: ')\n",
    "numList = [1,2,3,4,5,6,7,8]\n",
    "for number in numList:\n",
    "    print(number,end = \" \")\n",
    "print(\" \")\n",
    "for i in range(len(numList)):\n",
    "    print(numList[i], end = \" \")"
   ]
  },
  {
   "cell_type": "code",
   "execution_count": 4,
   "metadata": {},
   "outputs": [
    {
     "name": "stdout",
     "output_type": "stream",
     "text": [
      "Task 4: \n",
      "[8, 7, 6, 5, 4, 3, 2, 1]\n",
      "[1, 2, 3, 4, 5, 6, 7, 8]\n"
     ]
    }
   ],
   "source": [
    "'''\n",
    "Task 4: Reverse and sort the list\n",
    "---------------------------------\n",
    "'''\n",
    "print('Task 4: ')\n",
    "numList = [1,2,3,4,5,6,7,8]\n",
    "revList = numList[:]\n",
    "revList.reverse()\n",
    "print(revList)\n",
    "sortedList = revList[:]\n",
    "sortedList.sort()\n",
    "print(sortedList)"
   ]
  },
  {
   "cell_type": "code",
   "execution_count": 5,
   "metadata": {},
   "outputs": [
    {
     "name": "stdout",
     "output_type": "stream",
     "text": [
      "Task 5: \n",
      "(1, 2)\n",
      "1 2\n"
     ]
    }
   ],
   "source": [
    "'''\n",
    "Task 5: Create Tuple\n",
    "--------------------\n",
    "'''\n",
    "print('Task 5: ')\n",
    "\n",
    "pair = (1,2)\n",
    "print(pair)\n",
    "print(pair[0],pair[1])\n"
   ]
  },
  {
   "cell_type": "code",
   "execution_count": 6,
   "metadata": {},
   "outputs": [
    {
     "name": "stdout",
     "output_type": "stream",
     "text": [
      "Task 6: \n"
     ]
    },
    {
     "ename": "TypeError",
     "evalue": "'tuple' object does not support item assignment",
     "output_type": "error",
     "traceback": [
      "\u001b[0;31m---------------------------------------------------------------------------\u001b[0m",
      "\u001b[0;31mTypeError\u001b[0m                                 Traceback (most recent call last)",
      "\u001b[0;32m<ipython-input-6-80a3f3b09bae>\u001b[0m in \u001b[0;36m<module>\u001b[0;34m()\u001b[0m\n\u001b[1;32m      6\u001b[0m \u001b[0;34m\u001b[0m\u001b[0m\n\u001b[1;32m      7\u001b[0m \u001b[0mpair\u001b[0m \u001b[0;34m=\u001b[0m \u001b[0;34m(\u001b[0m\u001b[0;36m1\u001b[0m\u001b[0;34m,\u001b[0m\u001b[0;36m2\u001b[0m\u001b[0;34m,\u001b[0m\u001b[0;36m3\u001b[0m\u001b[0;34m,\u001b[0m\u001b[0;36m4\u001b[0m\u001b[0;34m)\u001b[0m\u001b[0;34m\u001b[0m\u001b[0m\n\u001b[0;32m----> 8\u001b[0;31m \u001b[0mpair\u001b[0m\u001b[0;34m[\u001b[0m\u001b[0;36m1\u001b[0m\u001b[0;34m]\u001b[0m \u001b[0;34m=\u001b[0m \u001b[0;36m5\u001b[0m \u001b[0;31m# Throws error\u001b[0m\u001b[0;34m\u001b[0m\u001b[0m\n\u001b[0m\u001b[1;32m      9\u001b[0m \u001b[0;32mdel\u001b[0m \u001b[0mpair\u001b[0m\u001b[0;34m[\u001b[0m\u001b[0;36m2\u001b[0m\u001b[0;34m]\u001b[0m \u001b[0;31m# Throws errror\u001b[0m\u001b[0;34m\u001b[0m\u001b[0m\n",
      "\u001b[0;31mTypeError\u001b[0m: 'tuple' object does not support item assignment"
     ]
    }
   ],
   "source": [
    "'''\n",
    "Task 6: Manipulate Tuple (Tuple is immutable and cannot be modified)\n",
    "------------------------\n",
    "'''\n",
    "print('Task 6: ')\n",
    "\n",
    "pair = (1,2,3,4)\n",
    "pair[1] = 5 # Throws error\n",
    "del pair[2] # Throws errror"
   ]
  },
  {
   "cell_type": "code",
   "execution_count": null,
   "metadata": {},
   "outputs": [],
   "source": []
  },
  {
   "cell_type": "code",
   "execution_count": null,
   "metadata": {},
   "outputs": [],
   "source": [
    "'''\n",
    "Task 7: Traverse Tuple (Tuple is immutable and cannot be modified)\n",
    "------------------------\n",
    "'''\n",
    "print('Task 7: ')\n",
    "\n",
    "tup = ('A','B','C','D','E','F','G','H')\n",
    "for ch in tup:\n",
    "    print(ch, end=\" \")\n",
    "if 'C' in tup:\n",
    "    print(True)\n"
   ]
  },
  {
   "cell_type": "code",
   "execution_count": 7,
   "metadata": {},
   "outputs": [
    {
     "name": "stdout",
     "output_type": "stream",
     "text": [
      "Task 8: \n",
      "Empty Bag : set()\n",
      "Money bag : {0, 70, 40, 10, 80, 50, 20, 90, 60, 30}\n"
     ]
    }
   ],
   "source": [
    "'''\n",
    "Task 8: Set creation\n",
    "--------------------\n",
    "'''\n",
    "print('Task 8: ')\n",
    "\n",
    "emptyBag = set()\n",
    "print(\"Empty Bag : \"+str(emptyBag))\n",
    "moneyBag = set()\n",
    "for i in range(0,100,10):\n",
    "    moneyBag.add(i)\n",
    "print(\"Money bag : \"+str(moneyBag))"
   ]
  },
  {
   "cell_type": "code",
   "execution_count": 8,
   "metadata": {},
   "outputs": [
    {
     "name": "stdout",
     "output_type": "stream",
     "text": [
      "Task 9: \n",
      "{1, 2, 3, 4, 5, 6}\n",
      "{1, 2, 3, 4, 5, 6, 33, 11, 44, 22}\n"
     ]
    }
   ],
   "source": [
    "'''\n",
    "Task 9: Set Insertion\n",
    "------------------------\n",
    "'''\n",
    "print('Task 9: ')\n",
    "\n",
    "bag = {1,2,3,4,5}\n",
    "bag.add(6)\n",
    "print(bag)\n",
    "bag.update([11,22,33,44])\n",
    "print(bag)"
   ]
  },
  {
   "cell_type": "code",
   "execution_count": 9,
   "metadata": {},
   "outputs": [
    {
     "name": "stdout",
     "output_type": "stream",
     "text": [
      "Task 10: \n",
      "{2, 3, 4, 5}\n",
      "set()\n"
     ]
    }
   ],
   "source": [
    "'''\n",
    "Task 10: Set Deletion\n",
    "------------------------\n",
    "'''\n",
    "print('Task 10: ')\n",
    "\n",
    "bag = {1,2,3,4,5}\n",
    "bag.remove(1)\n",
    "print(bag)\n",
    "bag.clear()\n",
    "print(bag)"
   ]
  },
  {
   "cell_type": "code",
   "execution_count": 10,
   "metadata": {},
   "outputs": [
    {
     "name": "stdout",
     "output_type": "stream",
     "text": [
      "Task 11: \n",
      "{1, 2, 3, 4, 5}\n",
      "{4, 5, 6, 7, 8}\n",
      "SET difference\n",
      "{1, 2, 3}\n"
     ]
    }
   ],
   "source": [
    "'''\n",
    "Task 11: Set Difference\n",
    "------------------------\n",
    "'''\n",
    "print('Task 11: ')\n",
    "\n",
    "bag1 = {1,2,3,4,5}\n",
    "bag2 = {4,5,6,7,8}\n",
    "bag3 = bag1.difference(bag2)\n",
    "print(bag1)\n",
    "print(bag2)\n",
    "print(\"SET difference\")\n",
    "print(bag3)"
   ]
  },
  {
   "cell_type": "code",
   "execution_count": 11,
   "metadata": {},
   "outputs": [
    {
     "name": "stdout",
     "output_type": "stream",
     "text": [
      "Task 11: \n",
      "{1, 2, 3, 4, 5}\n",
      "{4, 5, 6, 7, 8}\n",
      "SET Intersection\n",
      "{4, 5}\n"
     ]
    }
   ],
   "source": [
    "'''\n",
    "Task 12: Set Intersection\n",
    "------------------------\n",
    "'''\n",
    "print('Task 11: ')\n",
    "bag1 = {1,2,3,4,5}\n",
    "bag2 = {4,5,6,7,8}\n",
    "bag3 = bag1.intersection(bag2)\n",
    "print(bag1)\n",
    "print(bag2)\n",
    "print(\"SET Intersection\")\n",
    "print(bag3)"
   ]
  },
  {
   "cell_type": "code",
   "execution_count": 12,
   "metadata": {},
   "outputs": [
    {
     "name": "stdout",
     "output_type": "stream",
     "text": [
      "Task 13: \n",
      "{1, 2, 3, 4, 5}\n",
      "{4, 5, 6, 7, 8}\n",
      "SET Union\n",
      "{1, 2, 3, 4, 5, 6, 7, 8}\n"
     ]
    }
   ],
   "source": [
    "'''\n",
    "Task 13: Set Union\n",
    "------------------------\n",
    "'''\n",
    "print('Task 13: ')\n",
    "bag1 = {1,2,3,4,5}\n",
    "bag2 = {4,5,6,7,8}\n",
    "bag3 = bag1.union(bag2)\n",
    "print(bag1)\n",
    "print(bag2)\n",
    "print(\"SET Union\")\n",
    "print(bag3)"
   ]
  },
  {
   "cell_type": "code",
   "execution_count": 13,
   "metadata": {},
   "outputs": [
    {
     "name": "stdout",
     "output_type": "stream",
     "text": [
      "Task 14: \n",
      "{1, 2, 3, 4, 5}\n",
      "{4, 5, 6, 7, 8}\n",
      "SET Symmetric Difference\n",
      "{1, 2, 3, 6, 7, 8}\n"
     ]
    }
   ],
   "source": [
    "'''\n",
    "Task 14: Set Symmetric DIfference\n",
    "--------------------------------\n",
    "'''\n",
    "print('Task 14: ')\n",
    "bag1 = {1,2,3,4,5}\n",
    "bag2 = {4,5,6,7,8}\n",
    "bag3 = bag1.symmetric_difference(bag2)\n",
    "print(bag1)\n",
    "print(bag2)\n",
    "print(\"SET Symmetric Difference\")\n",
    "print(bag3)"
   ]
  },
  {
   "cell_type": "code",
   "execution_count": 14,
   "metadata": {},
   "outputs": [
    {
     "name": "stdout",
     "output_type": "stream",
     "text": [
      "Task 15: \n",
      "True\n",
      "True\n",
      "True\n"
     ]
    }
   ],
   "source": [
    "'''\n",
    "Task 15: Other set operations\n",
    "------------------------------\n",
    "'''\n",
    "print('Task 15: ')\n",
    "bag = {1,2,3,4,5}\n",
    "bigBag = {1,2,3,4,5,6,7,8,9}\n",
    "smallBag = {1,2,3}\n",
    "print(bag.issubset(bigBag))\n",
    "print(bigBag.issuperset(smallBag))\n",
    "print(1 in bag)\n"
   ]
  },
  {
   "cell_type": "code",
   "execution_count": 15,
   "metadata": {},
   "outputs": [
    {
     "name": "stdout",
     "output_type": "stream",
     "text": [
      "Task 16: \n",
      "{}\n",
      "{'Lion': 240, 'Elephant': 500, 'Tiger': 180, 'Giraffe': 170}\n"
     ]
    }
   ],
   "source": [
    "'''\n",
    "Task 16: Dictionary\n",
    "---------------------\n",
    "'''\n",
    "print('Task 16: ')\n",
    "\n",
    "emptyDict = dict()\n",
    "print(emptyDict)\n",
    "animalDict = {\"Lion\":240,\"Elephant\":500,\"Tiger\":180,\"Giraffe\":170}\n",
    "print(animalDict)"
   ]
  },
  {
   "cell_type": "code",
   "execution_count": 16,
   "metadata": {},
   "outputs": [
    {
     "name": "stdout",
     "output_type": "stream",
     "text": [
      "Task 17: \n",
      "{'Lion': 240, 'Elephant': 500, 'Tiger': 180, 'Giraffe': 170}\n",
      "{'Lion': 240, 'Elephant': 500, 'Tiger': 180, 'Giraffe': 170, 'T-Rex': 800}\n",
      "{'Elephant': 500, 'Tiger': 180, 'Giraffe': 170, 'T-Rex': 800}\n",
      "{}\n"
     ]
    }
   ],
   "source": [
    "'''\n",
    "Task 17: Dict Manipulation\n",
    "--------------------------\n",
    "'''\n",
    "print('Task 17: ')\n",
    "\n",
    "animalDict = {\"Lion\":240,\"Elephant\":500,\"Tiger\":180,\"Giraffe\":170}\n",
    "print(animalDict)\n",
    "animalDict[\"T-Rex\"] = 800\n",
    "print(animalDict)\n",
    "del animalDict[\"Lion\"]\n",
    "print(animalDict)\n",
    "animalDict.clear()\n",
    "print(animalDict)"
   ]
  },
  {
   "cell_type": "code",
   "execution_count": 17,
   "metadata": {},
   "outputs": [
    {
     "name": "stdout",
     "output_type": "stream",
     "text": [
      "Task 18: \n",
      "Keys: \n",
      "Lion Elephant Tiger Giraffe \n",
      "\n",
      "Values: \n",
      "240 500 180 170 \n",
      "\n",
      "Key value pairs: \n",
      "('Lion', 240) ('Elephant', 500) ('Tiger', 180) ('Giraffe', 170) "
     ]
    }
   ],
   "source": [
    "'''\n",
    "Task 18: Dict Traversal\n",
    "--------------------------\n",
    "'''\n",
    "print('Task 18: ')\n",
    "\n",
    "animalDict = {\"Lion\":240,\"Elephant\":500,\"Tiger\":180,\"Giraffe\":170}\n",
    "\n",
    "print(\"Keys: \")\n",
    "for key in animalDict:\n",
    "    print(key,end=\" \")\n",
    "print(\"\\n\\nValues: \")\n",
    "for value in animalDict.values():\n",
    "    print(value,end=\" \")\n",
    "print(\"\\n\\nKey value pairs: \")\n",
    "for x,y in animalDict.items():\n",
    "    print((x,y),end=\" \")"
   ]
  },
  {
   "cell_type": "code",
   "execution_count": 18,
   "metadata": {},
   "outputs": [
    {
     "name": "stdout",
     "output_type": "stream",
     "text": [
      "Task 19: \n",
      "15\n",
      "100\n"
     ]
    }
   ],
   "source": [
    "'''\n",
    "Task 19: Lambda Expressions\n",
    "---------------------------\n",
    "'''\n",
    "print('Task 19: ')\n",
    "\n",
    "addTen = lambda a : a + 10\n",
    "print(addTen(5))\n",
    "mulTen = lambda a : a*10\n",
    "print(mulTen(10))"
   ]
  },
  {
   "cell_type": "code",
   "execution_count": 19,
   "metadata": {
    "scrolled": true
   },
   "outputs": [
    {
     "name": "stdout",
     "output_type": "stream",
     "text": [
      "Task 20: \n",
      "10 20 <function <lambda> at 0x7f27340d07b8>\n",
      "10 0 <function <lambda> at 0x7f27340d07b8>\n",
      "10 100 <function <lambda> at 0x7f27340d07b8>\n",
      "10 1.0 <function <lambda> at 0x7f27341bc6a8>\n"
     ]
    }
   ],
   "source": [
    "'''\n",
    "Task 20: Passing Lambda as function parameter\n",
    "---------------------------------------------\n",
    "'''\n",
    "print('Task 20: ')\n",
    "\n",
    "def calculate(value,arthOperation):\n",
    "    print(value,arthOperation(value),arthOperation)\n",
    "    \n",
    "calculate(10,lambda a:a+10)\n",
    "calculate(10,lambda a:a-10)\n",
    "calculate(10,lambda a:a*10)\n",
    "calculate(10,lambda a:a/10)"
   ]
  },
  {
   "cell_type": "code",
   "execution_count": 20,
   "metadata": {},
   "outputs": [
    {
     "name": "stdout",
     "output_type": "stream",
     "text": [
      "Task 21: \n",
      "100\n"
     ]
    }
   ],
   "source": [
    "'''\n",
    "Task 21: Returning lambda from function\n",
    "---------------------------------------\n",
    "'''\n",
    "print('Task 21: ')\n",
    "\n",
    "\n",
    "def getMultiplier(n):\n",
    "    return lambda x:x*n\n",
    "\n",
    "multiplier = getMultiplier(10)\n",
    "print(multiplier(10))"
   ]
  },
  {
   "cell_type": "code",
   "execution_count": 28,
   "metadata": {},
   "outputs": [
    {
     "name": "stdout",
     "output_type": "stream",
     "text": [
      "Task 22: \n",
      "short black 10\n",
      "shortss\n",
      "I am writing\n"
     ]
    }
   ],
   "source": [
    "'''\n",
    "Task 22: Classes and objects\n",
    "----------------------------\n",
    "'''\n",
    "print('Task 22: ')\n",
    "\n",
    "class Pen:\n",
    "    nib = \"short\"\n",
    "    ink = \"black\"\n",
    "    cap = \"10\"\n",
    "    \n",
    "    def write(self):\n",
    "        print(\"I am writing\")\n",
    "pen = Pen()\n",
    "print(pen.nib,pen.ink,pen.cap)\n",
    "pen.write()"
   ]
  },
  {
   "cell_type": "code",
   "execution_count": 22,
   "metadata": {},
   "outputs": [
    {
     "name": "stdout",
     "output_type": "stream",
     "text": [
      "Task 23: \n",
      "Long Red 12\n",
      "I am writing\n"
     ]
    }
   ],
   "source": [
    "'''\n",
    "Task 23: Instantiating with constructor\n",
    "---------------------------------------\n",
    "'''\n",
    "print('Task 23: ')\n",
    "\n",
    "class Pen:\n",
    "    nib = \"short\"\n",
    "    ink = \"black\"\n",
    "    cap = \"10\"\n",
    "    \n",
    "    def __init__(self,nib,ink,cap):\n",
    "        self.nib = nib\n",
    "        self.ink = ink\n",
    "        self.cap = cap\n",
    "    \n",
    "    def write(self):\n",
    "        print(\"I am writing\")\n",
    "pen = Pen(\"Long\",\"Red\",\"12\")\n",
    "print(pen.nib,pen.ink,pen.cap)\n",
    "pen.write()"
   ]
  },
  {
   "cell_type": "code",
   "execution_count": 23,
   "metadata": {},
   "outputs": [
    {
     "name": "stdout",
     "output_type": "stream",
     "text": [
      "Task 24: \n",
      "<__main__.Pen object at 0x7f27340d99e8>\n",
      "<class '__main__.Pen'>\n"
     ]
    }
   ],
   "source": [
    "'''\n",
    "Task 24: Printing the class and object\n",
    "---------------------------------------\n",
    "'''\n",
    "print('Task 24: ')\n",
    "\n",
    "class Pen:\n",
    "    nib = \"short\"\n",
    "    ink = \"black\"\n",
    "    cap = \"10\"\n",
    "    \n",
    "    def __init__(self,nib,ink,cap):\n",
    "        self.nib = nib\n",
    "        self.ink = ink\n",
    "        self.cap = cap\n",
    "    \n",
    "    def write(self):\n",
    "        print(\"I am writing\")\n",
    "        \n",
    "pen = Pen(\"Long\",\"Red\",\"12\")\n",
    "print(pen) #object\n",
    "print(Pen) #class"
   ]
  },
  {
   "cell_type": "code",
   "execution_count": 24,
   "metadata": {},
   "outputs": [
    {
     "name": "stdout",
     "output_type": "stream",
     "text": [
      "Task 25: \n",
      "Long Red  12\n"
     ]
    }
   ],
   "source": [
    "'''\n",
    "Task 25: Printing object with customization\n",
    "-------------------------------------------\n",
    "'''\n",
    "print('Task 25: ')\n",
    "\n",
    "class Pen:\n",
    "    nib = \"short\"\n",
    "    ink = \"black\"\n",
    "    cap = \"10\"\n",
    "    \n",
    "    def __init__(self,nib,ink,cap):\n",
    "        self.nib = nib\n",
    "        self.ink = ink\n",
    "        self.cap = cap\n",
    "        \n",
    "    def __str__(self):\n",
    "        return self.nib+\" \"+self.ink+\"  \"+self.cap\n",
    "    \n",
    "    def write(self):\n",
    "        print(\"I am writing\")\n",
    "        \n",
    "pen = Pen(\"Long\",\"Red\",\"12\")\n",
    "print(pen) #object"
   ]
  },
  {
   "cell_type": "code",
   "execution_count": 25,
   "metadata": {},
   "outputs": [
    {
     "name": "stdout",
     "output_type": "stream",
     "text": [
      "Task 26: \n",
      "Long Red 12\n",
      "Lean_sharp Green 8\n"
     ]
    }
   ],
   "source": [
    "'''\n",
    "Task 26: Modify object properties\n",
    "---------------------------------\n",
    "'''\n",
    "print('Task 26: ')\n",
    "\n",
    "class Pen:\n",
    "    nib = \"short\"\n",
    "    ink = \"black\"\n",
    "    cap = \"10\"\n",
    "    \n",
    "    def __init__(self,nib,ink,cap):\n",
    "        self.nib = nib\n",
    "        self.ink = ink\n",
    "        self.cap = cap\n",
    "        \n",
    "pen = Pen(\"Long\",\"Red\",\"12\")\n",
    "print(pen.nib,pen.ink,pen.cap)\n",
    "pen.nib = \"Lean_sharp\"\n",
    "pen.ink = \"Green\"\n",
    "pen.cap = \"8\"\n",
    "print(pen.nib,pen.ink,pen.cap)\n"
   ]
  },
  {
   "cell_type": "code",
   "execution_count": 30,
   "metadata": {},
   "outputs": [
    {
     "name": "stdout",
     "output_type": "stream",
     "text": [
      "Task 28: \n",
      "Medium Blue 11\n",
      "short black 10\n"
     ]
    }
   ],
   "source": [
    "'''\n",
    "Task 28: Accessing class variables vs instance variables\n",
    "--------------------------------------------------------\n",
    "'''\n",
    "print('Task 28: ')\n",
    "\n",
    "class Pen:\n",
    "    nib = \"short\"\n",
    "    ink = \"black\"\n",
    "    cap = \"10\"\n",
    "    \n",
    "    def __init__(self,nib,ink,cap):\n",
    "        self.nib = nib\n",
    "        self.ink = ink\n",
    "        self.cap = cap\n",
    "    \n",
    "    def write(self):\n",
    "        print(\"I am writing\")\n",
    "pen = Pen(\"Medium\",\"Blue\",\"11\")\n",
    "print(pen.nib,pen.ink,pen.cap) #instance\n",
    "print(Pen.nib,Pen.ink,Pen.cap) #class"
   ]
  },
  {
   "cell_type": "code",
   "execution_count": 35,
   "metadata": {},
   "outputs": [
    {
     "name": "stdout",
     "output_type": "stream",
     "text": [
      "Task 29: \n",
      "Medium\n",
      "True\n"
     ]
    }
   ],
   "source": [
    "'''\n",
    "Task 29: Predefined functions - Accessing object attributes\n",
    "----------------------------------------------------------\n",
    "'''\n",
    "print('Task 29: ')\n",
    "\n",
    "class Pen:\n",
    "    nib = \"short\"\n",
    "    ink = \"black\"\n",
    "    cap = \"10\"\n",
    "    \n",
    "    def __init__(self,nib,ink,cap):\n",
    "        self.nib = nib\n",
    "        self.ink = ink\n",
    "        self.cap = cap\n",
    "    \n",
    "    def write(self):\n",
    "        print(\"I am writing\")\n",
    "        \n",
    "pen = Pen(\"Medium\",\"Blue\",\"11\")\n",
    "print(getattr(pen,\"nib\"))\n",
    "print(hasattr(pen,\"nib\"))"
   ]
  },
  {
   "cell_type": "code",
   "execution_count": 41,
   "metadata": {},
   "outputs": [
    {
     "name": "stdout",
     "output_type": "stream",
     "text": [
      "Task 30: \n",
      "60\n",
      "True\n"
     ]
    }
   ],
   "source": [
    "'''\n",
    "Task 30: Predefined functions - Adding & removing attributes\n",
    "------------------------------------------------------------\n",
    "'''\n",
    "print('Task 30: ')\n",
    "\n",
    "class Pen:\n",
    "    nib = \"short\"\n",
    "    ink = \"black\"\n",
    "    cap = \"10\"\n",
    "    \n",
    "    def __init__(self,nib,ink,cap):\n",
    "        self.nib = nib\n",
    "        self.ink = ink\n",
    "        self.cap = cap\n",
    "    \n",
    "    def write(self):\n",
    "        print(\"I am writing\")\n",
    "        \n",
    "pen = Pen(\"Medium\",\"Blue\",\"11\")\n",
    "setattr(pen,\"price\",\"60\")\n",
    "print(pen.price)\n",
    "delattr(pen,\"cap\") # May fail - Succeeds only when object allows it\n",
    "print(hasattr(pen,\"cap\"))"
   ]
  },
  {
   "cell_type": "code",
   "execution_count": 42,
   "metadata": {},
   "outputs": [
    {
     "name": "stdout",
     "output_type": "stream",
     "text": [
      "Task 31: \n",
      "Pen instance destroyed!\n"
     ]
    }
   ],
   "source": [
    "'''\n",
    "Task 31: Defining destructor for the object\n",
    "-------------------------------------------\n",
    "'''\n",
    "print('Task 31: ')\n",
    "\n",
    "class Pen:\n",
    "    nib = \"short\"\n",
    "    ink = \"black\"\n",
    "    cap = \"10\"\n",
    "    \n",
    "    def __init__(self,nib,ink,cap):\n",
    "        self.nib = nib\n",
    "        self.ink = ink\n",
    "        self.cap = cap\n",
    "        \n",
    "    def __del__(self):\n",
    "        print(\"Pen instance destroyed!\")\n",
    "    \n",
    "    def write(self):\n",
    "        print(\"I am writing\")\n",
    "        \n",
    "pen = Pen(\"Medium\",\"Blue\",\"11\")\n",
    "del pen"
   ]
  },
  {
   "cell_type": "code",
   "execution_count": 57,
   "metadata": {},
   "outputs": [
    {
     "name": "stdout",
     "output_type": "stream",
     "text": [
      "Task 32: \n",
      "Medium Blue 11\n",
      "I am writing\n",
      "Writing fast\n"
     ]
    }
   ],
   "source": [
    "'''\n",
    "Task 32: Class Inheritance\n",
    "--------------------------\n",
    "'''\n",
    "print('Task 32: ')\n",
    "\n",
    "class Pen:\n",
    "    def __init__(self,nib,ink,cap):\n",
    "        self.nib = nib\n",
    "        self.ink = ink\n",
    "        self.cap = cap\n",
    "    \n",
    "    def write(self):\n",
    "        print(\"I am writing\")\n",
    "\n",
    "class GelPen(Pen):\n",
    "    \n",
    "    def writeFast(self):\n",
    "        print(\"Writing fast\")\n",
    "        \n",
    "pen = GelPen(\"Medium\",\"Blue\",\"11\")\n",
    "print(pen.nib,pen.ink,pen.cap) # access parent variables\n",
    "pen.write() # access parent member\n",
    "pen.writeFast() #access child member"
   ]
  },
  {
   "cell_type": "code",
   "execution_count": 61,
   "metadata": {},
   "outputs": [
    {
     "name": "stdout",
     "output_type": "stream",
     "text": [
      "Task 33: \n",
      "Medium Blue 11\n",
      "Awesome\n"
     ]
    }
   ],
   "source": [
    "'''\n",
    "Task 33: Calling parent constructor for user defined constructor(child)\n",
    "----------------------------------------------------------------------\n",
    "'''\n",
    "print('Task 33: ')\n",
    "\n",
    "class Pen:\n",
    "    def __init__(self,nib,ink,cap):\n",
    "        self.nib = nib\n",
    "        self.ink = ink\n",
    "        self.cap = cap\n",
    "    \n",
    "    def write(self):\n",
    "        print(\"I am writing\")\n",
    "\n",
    "class GelPen(Pen):\n",
    "    \n",
    "    quality=None\n",
    "    \n",
    "    def __init__(self,nib,ink,cap,quality):\n",
    "        super(GelPen,self).__init__(nib,ink,cap) # calling parent constructor\n",
    "        self.quality = quality\n",
    "    \n",
    "    def writeFast(self):\n",
    "        print(\"Writing fast\")\n",
    "        \n",
    "pen = GelPen(\"Medium\",\"Blue\",\"11\",\"Awesome\")\n",
    "print(pen.nib,pen.ink,pen.cap) # access parent variables   \n",
    "print(pen.quality) # access child variable"
   ]
  },
  {
   "cell_type": "code",
   "execution_count": 65,
   "metadata": {},
   "outputs": [
    {
     "name": "stdout",
     "output_type": "stream",
     "text": [
      "Task 34: \n",
      "I am writing Parent!\n",
      "I am writing Children!\n"
     ]
    }
   ],
   "source": [
    "'''\n",
    "Task 34: Overriding methods\n",
    "---------------------------\n",
    "'''\n",
    "print('Task 34: ')\n",
    "\n",
    "class Pen:\n",
    "    def __init__(self,nib,ink,cap):\n",
    "        self.nib = nib\n",
    "        self.ink = ink\n",
    "        self.cap = cap\n",
    "    \n",
    "    def write(self):\n",
    "        print(\"I am writing Parent!\")\n",
    "\n",
    "class GelPen(Pen):\n",
    "\n",
    "    def write(self):\n",
    "        print(\"I am writing Children!\")\n",
    "\n",
    "Pen(\"Medium\",\"Blue\",\"11\").write() # parent write method\n",
    "GelPen(\"Medium\",\"Blue\",\"11\").write() # child write method\n"
   ]
  },
  {
   "cell_type": "code",
   "execution_count": 73,
   "metadata": {},
   "outputs": [
    {
     "name": "stdout",
     "output_type": "stream",
     "text": [
      "Task 35: \n",
      "Medium Blue 11\n",
      "I am writing\n",
      "Pen MFG Id : 341\n"
     ]
    },
    {
     "ename": "AttributeError",
     "evalue": "'Pen' object has no attribute '__penMfgID'",
     "output_type": "error",
     "traceback": [
      "\u001b[0;31m---------------------------------------------------------------------------\u001b[0m",
      "\u001b[0;31mAttributeError\u001b[0m                            Traceback (most recent call last)",
      "\u001b[0;32m<ipython-input-73-ff9c0e019bc7>\u001b[0m in \u001b[0;36m<module>\u001b[0;34m()\u001b[0m\n\u001b[1;32m     21\u001b[0m \u001b[0mprint\u001b[0m\u001b[0;34m(\u001b[0m\u001b[0mpen\u001b[0m\u001b[0;34m.\u001b[0m\u001b[0mnib\u001b[0m\u001b[0;34m,\u001b[0m\u001b[0mpen\u001b[0m\u001b[0;34m.\u001b[0m\u001b[0mink\u001b[0m\u001b[0;34m,\u001b[0m\u001b[0mpen\u001b[0m\u001b[0;34m.\u001b[0m\u001b[0mcap\u001b[0m\u001b[0;34m)\u001b[0m \u001b[0;31m# access public variable\u001b[0m\u001b[0;34m\u001b[0m\u001b[0m\n\u001b[1;32m     22\u001b[0m \u001b[0mpen\u001b[0m\u001b[0;34m.\u001b[0m\u001b[0mwrite\u001b[0m\u001b[0;34m(\u001b[0m\u001b[0;34m)\u001b[0m\u001b[0;34m\u001b[0m\u001b[0m\n\u001b[0;32m---> 23\u001b[0;31m \u001b[0mprint\u001b[0m\u001b[0;34m(\u001b[0m\u001b[0mpen\u001b[0m\u001b[0;34m.\u001b[0m\u001b[0m__penMfgID\u001b[0m\u001b[0;34m)\u001b[0m \u001b[0;31m# prevents access to private variable\u001b[0m\u001b[0;34m\u001b[0m\u001b[0m\n\u001b[0m",
      "\u001b[0;31mAttributeError\u001b[0m: 'Pen' object has no attribute '__penMfgID'"
     ]
    }
   ],
   "source": [
    "'''\n",
    "Task 35: Private variables\n",
    "---------------------------\n",
    "'''\n",
    "print('Task 35: ')\n",
    "\n",
    "class Pen:\n",
    "    \n",
    "    __penMfgID = 341\n",
    "    \n",
    "    def __init__(self,nib,ink,cap):\n",
    "        self.nib = nib\n",
    "        self.ink = ink\n",
    "        self.cap = cap\n",
    "    \n",
    "    def write(self):\n",
    "        print(\"I am writing\")\n",
    "        print(\"Pen MFG Id :\",self.__penMfgID) # Accessible inside method\n",
    "    \n",
    "pen = Pen(\"Medium\",\"Blue\",\"11\")\n",
    "print(pen.nib,pen.ink,pen.cap) # access public variable\n",
    "pen.write() # has access to pen id\n",
    "print(pen.__penMfgID) # prevents access to private variable\n"
   ]
  },
  {
   "cell_type": "code",
   "execution_count": null,
   "metadata": {},
   "outputs": [],
   "source": []
  }
 ],
 "metadata": {
  "kernelspec": {
   "display_name": "Python 3",
   "language": "python",
   "name": "python3"
  },
  "language_info": {
   "codemirror_mode": {
    "name": "ipython",
    "version": 3
   },
   "file_extension": ".py",
   "mimetype": "text/x-python",
   "name": "python",
   "nbconvert_exporter": "python",
   "pygments_lexer": "ipython3",
   "version": "3.6.6"
  }
 },
 "nbformat": 4,
 "nbformat_minor": 2
}
