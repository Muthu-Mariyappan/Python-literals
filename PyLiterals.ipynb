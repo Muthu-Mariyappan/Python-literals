{
 "cells": [
  {
   "cell_type": "code",
   "execution_count": 6,
   "metadata": {},
   "outputs": [
    {
     "name": "stdout",
     "output_type": "stream",
     "text": [
      "Task 1: \n",
      "[]\n",
      "['Sunday', 'Monday', 'Tuesday', 'Wednesday', 'Thursday', 'Friday', 'Saturday']\n"
     ]
    }
   ],
   "source": [
    "'''\n",
    "Task 1: Create Python list\n",
    "--------------------------\n",
    "'''\n",
    "print('Task 1: ')\n",
    "emptyList = [] #Creates Empty python List\n",
    "dayList = [\"Sunday\",\"Monday\",\"Tuesday\",\"Wednesday\",\"Thursday\",\"Friday\",\"Saturday\"] #Creates and initializes list\n",
    "print(emptyList)\n",
    "print(dayList)\n"
   ]
  },
  {
   "cell_type": "code",
   "execution_count": 7,
   "metadata": {},
   "outputs": [
    {
     "name": "stdout",
     "output_type": "stream",
     "text": [
      "Task 2: \n",
      "[1, 2, 3, 4, 5, 6, 7, 8]\n",
      "[1, 2, 3, 4, 5, 6, 7, 8, 9]\n",
      "[0, 2, 3, 4, 5, 6, 7, 8, 9]\n",
      "[2, 3, 4, 5, 6, 7, 8, 9]\n"
     ]
    }
   ],
   "source": [
    "'''\n",
    "Task 2: List Manipulation\n",
    "---------------------------\n",
    "'''\n",
    "print('Task 2: ')\n",
    "numList = [1,2,3,4,5,6,7,8]\n",
    "print(numList)\n",
    "numList.append(9) # Add element at end of list\n",
    "print(numList)\n",
    "numList[0] = 0 # Replace list element\n",
    "print(numList)\n",
    "del numList[0] # Delete a list element\n",
    "print(numList)"
   ]
  },
  {
   "cell_type": "code",
   "execution_count": null,
   "metadata": {},
   "outputs": [],
   "source": []
  }
 ],
 "metadata": {
  "kernelspec": {
   "display_name": "Python 3",
   "language": "python",
   "name": "python3"
  },
  "language_info": {
   "codemirror_mode": {
    "name": "ipython",
    "version": 3
   },
   "file_extension": ".py",
   "mimetype": "text/x-python",
   "name": "python",
   "nbconvert_exporter": "python",
   "pygments_lexer": "ipython3",
   "version": "3.6.6"
  }
 },
 "nbformat": 4,
 "nbformat_minor": 2
}
